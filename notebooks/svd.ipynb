{
 "cells": [
  {
   "cell_type": "code",
   "execution_count": 1,
   "metadata": {},
   "outputs": [],
   "source": [
    "import numpy as np"
   ]
  },
  {
   "cell_type": "code",
   "execution_count": 5,
   "metadata": {},
   "outputs": [
    {
     "name": "stdout",
     "output_type": "stream",
     "text": [
      "U:\n",
      "[[1. 0. 0.]\n",
      " [0. 1. 0.]\n",
      " [0. 0. 1.]]\n",
      "Singular Vaulues:\n",
      "[2. 2. 2.]\n",
      "V:\n",
      "[[1. 0. 0.]\n",
      " [0. 1. 0.]\n",
      " [0. 0. 1.]]\n"
     ]
    }
   ],
   "source": [
    "# Example of a Full-rank system.\n",
    "A = np.array([[2, 0, 0], [0, 2, 0], [0, 0, 2]])\n",
    "u, s, v_t = np.linalg.svd(A, full_matrices=True)\n",
    "v = v_t.T\n",
    "print(\"U:\")\n",
    "print(u)\n",
    "print(\"Singular Values:\")\n",
    "print(s)\n",
    "print(\"V:\")\n",
    "print(v)"
   ]
  },
  {
   "cell_type": "code",
   "execution_count": 8,
   "metadata": {},
   "outputs": [
    {
     "name": "stdout",
     "output_type": "stream",
     "text": [
      "U:\n",
      "[[-0.70710678  0.          0.         -0.70710678]\n",
      " [ 0.          0.          1.          0.        ]\n",
      " [ 0.          1.          0.          0.        ]\n",
      " [-0.70710678  0.          0.          0.70710678]]\n",
      "Singular Values:\n",
      "[2.82842712 2.         2.        ]\n",
      "V:\n",
      "[[-1.  0.  0.]\n",
      " [-0.  0.  1.]\n",
      " [-0.  1.  0.]]\n"
     ]
    }
   ],
   "source": [
    "# Example of an over-constrained system.\n",
    "A = np.array([[2, 0, 0], [0, 2, 0], [0, 0, 2], [2, 0, 0]])\n",
    "u, s, v_t = np.linalg.svd(A, full_matrices=True)\n",
    "v = v_t.T\n",
    "print(\"U:\")\n",
    "print(u)\n",
    "print(\"Singular Values:\")\n",
    "print(s)\n",
    "print(\"V:\")\n",
    "print(v)"
   ]
  },
  {
   "cell_type": "code",
   "execution_count": 9,
   "metadata": {},
   "outputs": [
    {
     "name": "stdout",
     "output_type": "stream",
     "text": [
      "U:\n",
      "[[1. 0.]\n",
      " [0. 1.]]\n",
      "Singular Values:\n",
      "[2. 2.]\n",
      "V:\n",
      "[[1. 0. 0.]\n",
      " [0. 1. 0.]\n",
      " [0. 0. 1.]]\n"
     ]
    }
   ],
   "source": [
    "# Example of under-constrained system.\n",
    "A = np.array([[2, 0, 0], [0, 2, 0]])\n",
    "u, s, v_t = np.linalg.svd(A, full_matrices=True)\n",
    "v = v_t.T\n",
    "print(\"U:\")\n",
    "print(u)\n",
    "print(\"Singular Values:\")\n",
    "print(s)\n",
    "print(\"V:\")\n",
    "print(v)"
   ]
  },
  {
   "cell_type": "code",
   "execution_count": null,
   "metadata": {},
   "outputs": [],
   "source": []
  }
 ],
 "metadata": {
  "kernelspec": {
   "display_name": "Python 3",
   "language": "python",
   "name": "python3"
  },
  "language_info": {
   "codemirror_mode": {
    "name": "ipython",
    "version": 3
   },
   "file_extension": ".py",
   "mimetype": "text/x-python",
   "name": "python",
   "nbconvert_exporter": "python",
   "pygments_lexer": "ipython3",
   "version": "3.6.8"
  }
 },
 "nbformat": 4,
 "nbformat_minor": 2
}
